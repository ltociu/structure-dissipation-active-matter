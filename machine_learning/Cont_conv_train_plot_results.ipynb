{
 "cells": [
  {
   "cell_type": "code",
   "execution_count": 1,
   "metadata": {},
   "outputs": [
    {
     "name": "stdout",
     "output_type": "stream",
     "text": [
      "Epoch 1/200\n",
      "47/47 - 30s - loss: 0.8007 - mse: 0.1337 - val_loss: 0.3420 - val_mse: 0.0584\n",
      "Epoch 2/200\n",
      "47/47 - 29s - loss: 0.3208 - mse: 0.0552 - val_loss: 0.3004 - val_mse: 0.0521\n",
      "Epoch 3/200\n",
      "47/47 - 29s - loss: 0.2873 - mse: 0.0495 - val_loss: 0.2662 - val_mse: 0.0463\n",
      "Epoch 4/200\n",
      "47/47 - 28s - loss: 0.2477 - mse: 0.0430 - val_loss: 0.2185 - val_mse: 0.0386\n",
      "Epoch 5/200\n",
      "...\n"
      "47/47 - 28s - loss: 0.0030 - mse: 0.0150 - val_loss: 0.0015 - val_mse: 0.0143\n",
      "Epoch 195/200\n",
      "47/47 - 28s - loss: 0.0029 - mse: 0.0148 - val_loss: 0.0020 - val_mse: 0.0148\n",
      "Epoch 196/200\n",
      "47/47 - 28s - loss: 0.0042 - mse: 0.0151 - val_loss: 0.0019 - val_mse: 0.0141\n",
      "Epoch 197/200\n",
      "47/47 - 28s - loss: 0.0023 - mse: 0.0147 - val_loss: 0.0027 - val_mse: 0.0149\n",
      "Epoch 198/200\n",
      "47/47 - 28s - loss: 0.0043 - mse: 0.0150 - val_loss: 0.0015 - val_mse: 0.0145\n",
      "Epoch 199/200\n",
      "47/47 - 28s - loss: 0.0039 - mse: 0.0149 - val_loss: 0.0016 - val_mse: 0.0146\n",
      "Epoch 200/200\n",
      "47/47 - 28s - loss: 0.0041 - mse: 0.0149 - val_loss: 0.0017 - val_mse: 0.0142\n"
     ]
    }
   ],
   "source": [
    "# Settings and packages\n",
    "\n",
    "from __future__ import division\n",
    "import time\n",
    "import sys\n",
    "import math\n",
    "import matplotlib.pyplot as plt\n",
    "import matplotlib\n",
    "from matplotlib import rc\n",
    "import numpy as np\n",
    "from keras.layers import Dense, Input, Activation, Layer, Flatten, Reshape\n",
    "from sklearn.model_selection import train_test_split\n",
    "from keras.models import Sequential\n",
    "import tensorflow as tf\n",
    "import keras\n",
    "import pandas as pd\n",
    "import numpy as np\n",
    "from keras.constraints import Constraint\n",
    "from keras import backend as K\n",
    "from tqdm import tqdm\n",
    "\n",
    "\n",
    "\n",
    "font = {'family' : 'normal',\n",
    "        'size'   : 22}\n",
    "\n",
    "matplotlib.rc('font', **font)\n",
    "\n",
    "# Some global constants\n",
    "num_epochs = 200\n",
    "batch_sz = 512\n",
    "\n",
    "n_TA_train = 6\n",
    "TA_train = [0,6,12,18,24,30]\n",
    "TA_test = [0,3,6,9,12,15,18,21,24,27,30]\n",
    "n_TA_test = 11\n",
    "\n",
    "Nparticles = 312\n",
    "Ndistances = 25\n",
    "rho = 1\n",
    "\n",
    "ngaussians = 40\n",
    "std = 0.05\n",
    "cutoff = 4\n",
    "gaussianmeans = np.linspace(0, cutoff, ngaussians)\n",
    "gaussianmeans = tf.convert_to_tensor(value=gaussianmeans, dtype='float32')\n",
    "\n",
    "\n",
    "@tf.function\n",
    "def map_Y_to_means(y,means):\n",
    "    i = 0\n",
    "    dist = tf.math.reduce_max((means-y)**2)\n",
    "    for j in range(len(means)):\n",
    "        if (y-means[j])**2 < dist:\n",
    "            i = j\n",
    "            dist = (y-means[j])**2\n",
    "    return means[i]\n",
    "\n",
    "\n",
    "# Design of the network.\n",
    "\n",
    "class PolarContConv(Layer):\n",
    "    def __init__(self,  npolars):\n",
    "        super(PolarContConv, self).__init__()\n",
    "        self.npolars = npolars\n",
    "\n",
    "    def polarharmonics(self, coord, m):\n",
    "        theta = tf.gather(coord, list(range(Nparticles, 2*Nparticles)), axis=-2)\n",
    "        return m%2*tf.math.sin(theta*m) + (1-m%2)*tf.math.cos(theta*m)\n",
    "\n",
    "    def Gaussianbasis(self, coord, kernel, m):\n",
    "        x = tf.gather(coord, list(range(Nparticles)), axis=-2)\n",
    "        rep=[]\n",
    "        for i in range(ngaussians):\n",
    "            rep.append(kernel[m][i]*tf.math.exp(-(x-gaussianmeans[i])**2/(2*std**2)))\n",
    "        rep_sum = tf.math.add_n(rep)\n",
    "        return rep_sum\n",
    "\n",
    "    def build(self, input_shape):\n",
    "        # Create a trainable weight variable for this layer.\n",
    "        self.kernel = self.add_weight(name='kernel',\n",
    "                                      shape=(self.npolars,ngaussians),\n",
    "                                      initializer='uniform',\n",
    "                                      trainable=True)\n",
    "        self.shape = input_shape\n",
    "        super(PolarContConv, self).build(input_shape)  # Be sure to call this at the end\n",
    "\n",
    "    def call(self, coord):\n",
    "        rep=[]\n",
    "        for m in range(self.npolars):\n",
    "            rep.append(tf.multiply(self.Gaussianbasis(coord, self.kernel, m),self.polarharmonics(coord, m)))\n",
    "        rep_concatenated =  tf.concat(rep, axis=1)\n",
    "        rep_concatenated_sum_rows = tf.math.reduce_sum(rep_concatenated, axis=2, keepdims=False, name=None)\n",
    "        return rep_concatenated_sum_rows\n",
    "\n",
    "    def compute_output_shape(self, input_shape):\n",
    "        return (input_shape[0], int(input_shape[1]/2)*self.npolars)\n",
    "    \n",
    "class EqualityConstraint(Constraint):\n",
    "    def __init__(self,blah):\n",
    "        self.blah = blah\n",
    "\n",
    "    def __call__(self, w):\n",
    "        average_w = tf.reduce_mean(w)\n",
    "        new_w = tf.reshape(tf.repeat(average_w, w.shape[0]), w.shape)\n",
    "        return new_w\n",
    "\n",
    "\n",
    "def RelativeEntropy(yTrue,yPred):\n",
    "    result = 0\n",
    "    for i in range(n_TA_train):\n",
    "        means_local = tf.reshape(tf.map_fn(lambda x: map_Y_to_means(x, means_train), yTrue), tf.shape(yTrue))\n",
    "        boolie = tf.equal(means_local, means_train[i])\n",
    "        yTrue_local = tf.gather_nd(yTrue, tf.where(boolie))\n",
    "        yPred_local = tf.gather_nd(yPred, tf.where(boolie))\n",
    "        result+=K.square(K.mean(yTrue_local-yPred_local,axis=-1))\n",
    "    return result\n",
    "\n",
    "# Building the data sets\n",
    "\n",
    "means_train = np.zeros(n_TA_train)\n",
    "\n",
    "n = 5000;\n",
    "\n",
    "X = np.zeros((n*n_TA_train, Nparticles*2, Ndistances))\n",
    "Y = np.zeros(n*n_TA_train)\n",
    "\n",
    "for i in range(n_TA_train):\n",
    "    X_local = np.reshape(np.load('X_TA' + str(TA_train[i]) + '.0.npy'), (6000,2*Nparticles,Ndistances))\n",
    "    Y_local = np.reshape(np.load('Y_TA'  + str(TA_train[i]) + '.0.npy'), 6000)\n",
    "    \n",
    "    Y_local = Y_local + 55.48*0.255\n",
    "    means_train[i] = np.mean(Y_local)\n",
    "    \n",
    "    X[i*n:(i+1)*n, :, :] = X_local[1000:,:,:]\n",
    "    Y[i*n:(i+1)*n] = Y_local[1000:]\n",
    "    \n",
    "rescale = max(Y) - min(Y)\n",
    "\n",
    "Y = Y/rescale\n",
    "\n",
    "means_train = means_train/rescale\n",
    "\n",
    "means_train = tf.convert_to_tensor(means_train, dtype=tf.float32)\n",
    "\n",
    "# Creating train / validation \n",
    "\n",
    "X_train, X_validation, Y_train, Y_validation = train_test_split(X, Y, test_size=0.2)\n",
    "\n",
    "\n",
    "# Constructing and running the model\n",
    "\n",
    "model = Sequential()\n",
    "model.add(PolarContConv(1))\n",
    "model.add(Dense(1, kernel_constraint= EqualityConstraint(1)))\n",
    "model.compile(loss=RelativeEntropy, optimizer='adam', metrics=['mse'])\n",
    "\n",
    "history = model.fit(X_train, Y_train, epochs=num_epochs, batch_size=batch_sz, validation_data=(X_validation, Y_validation), verbose=2)"
   ]
  },
  {
   "cell_type": "code",
   "execution_count": 4,
   "metadata": {},
   "outputs": [
    {
     "name": "stderr",
     "output_type": "stream",
     "text": [
      "100%|██████████| 11/11 [00:02<00:00,  5.29it/s]\n"
     ]
    }
   ],
   "source": [
    "def map_Y_to_means_numpy(y, means):\n",
    "    i = 0\n",
    "    dist = max(np.power((means-np.ones(len(means))*y), 2))\n",
    "    for j in range(len(means)):\n",
    "        if (y-means[j])**2 < dist:\n",
    "            i = j\n",
    "            dist = (y-means[j])**2\n",
    "    return means[i]\n",
    "\n",
    "\n",
    "means_test = np.zeros(n_TA_test)\n",
    "\n",
    "n = 1000;\n",
    "\n",
    "X_test = np.zeros((n*n_TA_test, Nparticles*2, Ndistances))\n",
    "Y_test = np.zeros(n*n_TA_test)\n",
    "\n",
    "for i in range(n_TA_test):\n",
    "    X_local = np.reshape(np.load('../X_TA' + str(TA_test[i]) + '.0.npy'), (6000,2*Nparticles,Ndistances))\n",
    "    Y_local = np.reshape(np.load('../Y_TA'  + str(TA_test[i]) + '.0.npy'), 6000)\n",
    "    \n",
    "    Y_local = Y_local + 55.48*0.255\n",
    "    means_test[i] = np.mean(Y_local[:n])\n",
    "    Y_output = np.ones(len(Y_local))*means_test[i]\n",
    "    \n",
    "    X_test[i*n:(i+1)*n, :, :] = X_local[:n,:,:]\n",
    "    Y_test[i*n:(i+1)*n] = Y_output[:n]\n",
    "    \n",
    "Y_test = Y_test/rescale\n",
    "\n",
    "means_test = means_test/rescale\n",
    "\n",
    "Y_pred = model.predict(X_test)\n",
    "\n",
    "dotw = np.zeros(n_TA_test)\n",
    "dotw_real = np.zeros(n_TA_test)\n",
    "\n",
    "for j in tqdm(range(n_TA_test)):\n",
    "    index = 0\n",
    "    for k in range(len(Y_test)):\n",
    "        if map_Y_to_means_numpy(Y_test[k], means_test) == means_test[j]:\n",
    "            dotw_real[j] += Y_test[k]\n",
    "            dotw[j] += Y_pred[k]\n",
    "            index += 1\n",
    "    dotw[j] /= index\n",
    "    dotw_real[j] /= index\n"
   ]
  },
  {
   "cell_type": "code",
   "execution_count": 11,
   "metadata": {},
   "outputs": [
    {
     "data": {
      "text/plain": [
       "(-0.1, 0.5)"
      ]
     },
     "execution_count": 11,
     "metadata": {},
     "output_type": "execute_result"
    },
    {
     "name": "stderr",
     "output_type": "stream",
     "text": [
      "findfont: Font family ['normal'] not found. Falling back to DejaVu Sans.\n"
     ]
    },
    {
     "data": {
      "image/png": "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\n",
      "text/plain": [
       "<Figure size 432x288 with 1 Axes>"
      ]
     },
     "metadata": {
      "needs_background": "light"
     },
     "output_type": "display_data"
    }
   ],
   "source": [
    "kap = 4\n",
    "amplitude = 50\n",
    "\n",
    "def fr(r):\n",
    "    if r < 2.5:\n",
    "        ekr = np.exp(-1.0*kap*r)\n",
    "        dudr = - amplitude * (kap*ekr/r + ekr/(r**2))\n",
    "        dduddr = amplitude * (kap*ekr/(r**2) + 2*ekr/(r**3))        \n",
    "        return dudr**2 - (dduddr + 1/r*dudr)\n",
    "    else:\n",
    "        return 0\n",
    "\n",
    "learned_Rr = np.zeros(300)\n",
    "real_Rr = np.zeros(300)\n",
    "r = np.linspace(0.005,2.995,300)\n",
    "        \n",
    "\n",
    "weights = model.get_weights()\n",
    "    \n",
    "for j in range(ngaussians):\n",
    "    learned_Rr += weights[0][0][j]*np.exp(-(r-gaussianmeans[j])**2/(2*std**2))\n",
    "\n",
    "for j in range(300):\n",
    "    real_Rr[j] = fr(r[j])\n",
    "    \n",
    "plt.scatter(r, np.sign(np.mean(weights[1]))*0.255*real_Rr/(rescale*Nparticles*np.mean(weights[1])))\n",
    "plt.scatter(r, np.sign(np.mean(weights[1]))*learned_Rr)\n",
    "plt.xlim(0.5, 2.5)\n",
    "plt.ylim(-0.1,0.5)"
   ]
  },
  {
   "cell_type": "code",
   "execution_count": 12,
   "metadata": {},
   "outputs": [
    {
     "data": {
      "text/plain": [
       "<matplotlib.legend.Legend at 0x1d5a96ea1f0>"
      ]
     },
     "execution_count": 12,
     "metadata": {},
     "output_type": "execute_result"
    },
    {
     "name": "stderr",
     "output_type": "stream",
     "text": [
      "findfont: Font family ['normal'] not found. Falling back to DejaVu Sans.\n",
      "findfont: Font family ['normal'] not found. Falling back to DejaVu Sans.\n"
     ]
    },
    {
     "data": {
      "image/png": "iVBORw0KGgoAAAANSUhEUgAAAZsAAAE0CAYAAAD60p7DAAAABHNCSVQICAgIfAhkiAAAAAlwSFlzAAALEgAACxIB0t1+/AAAADh0RVh0U29mdHdhcmUAbWF0cGxvdGxpYiB2ZXJzaW9uMy4yLjIsIGh0dHA6Ly9tYXRwbG90bGliLm9yZy+WH4yJAAAgAElEQVR4nO3dd3hUVf7H8fc3FST0ItJRQZr0KlVB0bUXQLErdsS+6q4/y+quyq66q6LIWrDAgiDYURGkgzTpRUBaqKGFUELKnN8fdwIhJCEkmcxk8nk9T56bmXvmzncI5MO599xzzDmHiIhIIEUEuwAREQl/ChsREQk4hY2IiAScwkZERAJOYSMiIgGnsBERkYBT2EiJYmY/mJkzsyQzq5OH9mXNbJP/NcvNLKYA7z3Ff5zh+T2GSHGlsJGS5h7gABAHvJeH9i8DtQEfcKdzLiWAtYmELYWNlCjOuY3AX/wPLzazW3Jqa2adgfv9D990zs0JdH0i4UphIyXREGCm//s3zKxa1gZmFgu8DxjwB/DXoitPJPwobKTEcc75gAHAEaAS8HY2zZ4FGvm/v8s5d6iIyhMJSwobKZGcc6uAv/kf9jGzqzL2mVkL4M/+h+875yab2XD/xf0puR3XzDb42z1/qjWZWUUzm+V/faKZdc+0r6yZXeuvY6WZHTSzFDPbZmbfmllfM7McjrvZf8xse2dmts6/3/k/e9b9DTLt75xlX2Uzu9nMRpvZWjM7ZGbJ/kEVY8zsolP9c5DwpLCRkmwwsMj//TtmVsHMIoEPgChgK/B4URRiZjWB6UAnYAfQ3Tk3NVOTT4CxwK14Pa7TgGigOnApMBr4MofRclP82/Ozed/awJmZnjqhDdDDvz0EzM2y72d/bX2Bs4DSQCzeoIrrgB/N7N1sjikljMJGSiznXBpwB5AGnAH8C3gUaONvcp9zLjHQdZjZOcAsoCne9aHOzrlFWZrtBobj/QJvDdQAagIdgTeAw8AVwAvZvMUU//a8bMIoI1xSszzOrs1M51xqln1bgXeAy4EWQDWgDtAdL7R9wL1mdk82x5USJCrYBYgEk3PuNzN7DXgSuBPvOg7AKOfc14F+fzNrB3wPVAGWAL2dc9uzqXNADofYCvxqZhP9xxloZv9wziVlavOLf1sa6IDXg8rQw7/9CLgb6GZmEf7rWhkyTuf9QhbOuUtzqGszMM3MFuCF0dNmNsxpTZMSSz0bEXge+N3/fSywCxgU6Dc1s17AZLygmQ50yy5o8sI5NwFIwLt/qFOWfX8Am/wPs/ZcMh5/CGwEKgCtMtV4Dl4vCo71kE7Fx/5tXaBBPl4vYUJhIyWecy4ZeDrTUy875xIC+Z5m1hf4Di8cvsHr0eR6ys7MapnZi/5BBLvNLDXThXsHVPU3PSebl0/xb3tkOl5doB6QBCzgWM8lcyBlfH8AmJdDXeeY2etmNt/M9ppZWqaaDmZqml1dUkIobEQ8e3L4PhB6Av8DYvCuw1zjnDuc2wvM7EpgJfAMXs+lEjmfBi+fzXNT/NtO/nuI4FiQTPdfv8oubHr4tzP9bbLWdR+wFHgE71pXBSDyFOqSEkJhI1L0ynPs396+7H6JZ2Zm9YBReL2gDXin+NriDWooD5T1f8X7X5JdCGUESSmOnWbLCJUpWdp0NbOMY/TIsi9zXR3xbpCNxrveNABoCZwOlPPXVC7TS3SNuATTD18kb/J6YTsv/6bG4V0Xegx42Mycc+7RXNrfgRcS+4GOzrkd2TUys3LZPQ/gnNtgZhvxrp30wAuYHv7dv/jbbDazP/CGQrcxs/14wQHZX6+5H2+GhfVAp+xufDWzirl8LilB1LMRyZtk/7Z0Tg3MLBrvYv9JOeceB17zP3zEzF7PpXlL/3ZyLkFTh+N7Edk5eprMzM7EG6KcCPyWXRuO9XwyrunkVNdXucywcO5JapISQmEjkjfb/NsGZpbTv5vz8Uaz5Uk2gfNaDk0zjpnTtRCAm/PwllP82w7An/zfT3POpWdqkzlsevi/n5HDqb7CqktKAIWNSN786t9WxLuB8ThmVgZvRoJTkiVwHs0hcP7wbzubWeVs3rsZ8FQe3i4jSGI5NjPClBzadOZYz+aE6zVZ6uqdadBB5rouAG7PQ11SAihsRPJmEt59KAAfmtlNZlbNzE73z6s2C6gF7DvVA2cTOP/K0mS0f1sJb/qXC/3vXd/MHgKm4Q1NznUUnXNuE971FfCu3UCWIHHObQXWAGU4dkpwSg6HzKirIfCtmXU2syr+odDPAt8Cq3OrSUoOhY1IHvhPI92Od+2mEvAp3hxm24HxeL+8r8W7BpKf42cOnMcyB45zbgreXfjgDS/+yf/efwD/9j/fB+/ayslkDpe9wOKTtNkPLMzhWJ/g3SME0AuYgXdj6Sq8aXN2A9fkoSYpARQ2InnknPsFby6yscBOIAXvzvxhQMssE2fm5/hZA+efmfY9ANwGzMG7UfIwsBZ4C2jlnJuRx7fJHCTTskxLk12b6Vmu6WSu1wdcjXePzSK8ID4ArMBb4bSlc049GwHANFWRiIgEmno2IiIScAobEREJOIWNiIgEnMJGREQCLuTmRvNP+dEN7w7nznhDSivjDamcDbztHwqa0+v7A/cBzfHubF6FtzDUuzmMvDlBlSpVXL169fL/IURESqAFCxbscs5VzW5fyI1G8y8oNdH/cDvenEwHgSZAM//zLzrnns3mtUPwJgdMxrsJLxVvOveyePdC9MlpGGdmbdu2dfPnzy/gJxERKVnMbIFzrm12+0LxNJoP+AJv1cIznHOXOef6OefOBa4H0oH/M7PjVhw0s2vxgmY70Nz/uqvxVgdciXc/wMCi/CAiIuIJubBxzk12zl3nnJuezb7ReItNAdyUZXfGSotPOufWZHrNDrzTagBP5TKJooiIBEhx/MWbMR16rYwnzKwW3jQeKcCYrC/w39m9BaiOdwe4iIgUoZAbIJAHDfzbbZmea+XfLs9led15QE1/21mn+qapqanEx8eTnJx88saSo1KlSlGrVi2io6ODXYqIZJW0HcbeDtcNh7Knn7T5qShWYWNm1fHmhwLvuk6G+v7tRnK2KUvbUxIfH0/ZsmWpV68eZpafQ5R4zjl2795NfHw89evn68cgIoE0dTBsmgNTX4XLclvP79QVm9No/jXRP8Nbc32Sc+6bTLvj/NuDuRzigH9bNofj321m881sfkJCwgn7k5OTqVy5soKmAMyMypUrq3coEoqStsOiEeB83jYp20Vh863YhA0wFG8Y82ZOHByQkQD5HsftnBvmnGvrnGtbtWq2w8QVNIVAf4YiIWrqYC9owNtOfbVQD18swsbM/gPciTesuadzbnuWJhnreMSRs4x9eVnzQ0Sk5Mjo1aSneI/TUwq9dxPyYeNfJncQ3gwCPTMPa85kg39bN5t9GWpnaVvsREZG0rJlS5o1a0afPn04dOhQvo912223MXbsWAAGDBjAihUrcmw7ZcoUZs065TEV1KtXj127duW7RhEpGmNef5C01CPHPXckNY3PX3+w0N4jpAcImNlg4FG8Ff8udM7l9BsxYzh0UzMrncOItHZZ2gZM25cmsutAygnPV4mLYf4zF+b7uKVLl2bRokUA3HjjjQwdOpRHH3306P709HQiIyNP+bjvv/9+rvunTJlCXFwc55133ikfW0RCXNJ2rvJNIsqOvwoRa2lc7vvF690Uwsi0kO3ZmNkrwBN4S9de6JzLbvlaAJxzm/GWro3BWx4367G6492Xsx1vfrWAyi5ocns+P7p27cratWuZMmUK559/Pv379+fcc88lPT2dJ554gnbt2tG8eXPee+89wBsJNnDgQJo0acKll17Kzp07jx6rR48eZEzP88MPP9C6dWtatGhBz5492bBhA0OHDuWNN96gZcuWTJ8+nYSEBK699lratWtHu3btmDlzJgC7d+/moosuolWrVtxzzz2E2lRIIpKN8fcRRfazeEVQeNduQrJnY2YvAk8C+/CCJi+9kZfxbuh81cxmOefW+o9VjWPrt7+S18k4c/PCN8tZsXV/vl7b773ss65JjXI8d3nTPB0jLS2NCRMmcPHFFwMwd+5cli1bRv369Rk2bBjly5dn3rx5HDlyhM6dO3PRRRfx22+/sXr1apYuXcqOHTto0qQJd9xxx3HHTUhI4K677mLatGnUr1+fPXv2UKlSJe69917i4uJ4/PHHAejfvz+PPPIIXbp0YdOmTfTu3ZuVK1fywgsv0KVLF5599lm+++47hg0blq8/IxEpIiu/hT8mk9O4nVhL867ddH+ywL2bkAsbM7sCeMb/cC3wYA4jmFY5517JeOCcG2tm7+JNTbPUzH7m2ESc5YAvgbcDWXugHT58mJYtWwJez+bOO+9k1qxZtG/f/uh9Kz/99BNLliw5ej0mMTGRNWvWMG3aNG644QYiIyOpUaMGF1xwwQnHnzNnDt26dTt6rEqVKmVbx88//3zcNZ79+/eTlJTEtGnTGDduHACXXnopFStWLLwPLyKFa+cqGHs7jmPDebOVMTKtgPfdhFzYAJl/w7X1f2VnKvBK5iecc/eb2QzgAaA7x5YY+JBTWGLgZE7WA6n31Hc57ht9T6d8v2/mazaZlSlT5uj3zjneeustevfufVyb77///qTDjp1zeRqa7PP5mD17NqVLlz5hn4Y2ixQD+7fCZ9fifOm5Bw14I9Pi5xb4LUPumo1zbrhzzvLw1SOH1490znV2zpVzzpVxzrVxzg0prKAJdb179+bdd98lNTUVgN9//52DBw/SrVs3Ro0aRXp6Otu2beOXX3454bWdOnVi6tSprF+/HoA9e/YAULZsWZKSjo0Yv+iii3j77WOdxIwA7NatGyNGjABgwoQJ7N27NzAfUkTyLzkRRvTBd3gvd8QMpjmf0zJiDPWSR57w1TZqLDyfCPfOKPDbhmLPptirEheT42i0QBswYAAbNmygdevWOOeoWrUqX375JVdffTWTJ0/m3HPPpWHDhnTv3v2E11atWpVhw4ZxzTXX4PP5qFatGhMnTuTyyy/nuuuu46uvvuKtt97izTff5IEHHqB58+akpaXRrVs3hg4dynPPPccNN9xA69at6d69O3Xq1An45xWRU5CWAqNvxiWs4onovzL/SG1GDOhA81oVAv7WIbd4WijIbvG0lStX0rhx4yBVFF70ZykSBD4fjL8Hln7Oy7EPMSK5M5/e2Z5WdQrv2mpui6epZyMiUhJMegGWfs4HMTfx6eHz+OSOdoUaNCejsBERCXdz/wsz/803MRfzz8OXMvz2drStl/1o00AJuQECIiJSiFZ+g/v+CWZHdeDPh27hw1vb0/HMykVehsJGRCRcbZqD+2IAq6Mack/y/bx3S3vOO7tKUEpR2IiIhIuk7fDRJd58Zgm/40b2Y6uvErcefoz/3HQe3Rpmv3xKUVDYBFLmH7yISKBlrLT58/P4PruGxCNwU/Kf+fuNPTi/UbWglqawCaTMS6wWgsxLDFx++eXs27cvX8cZPnw4AwcOLJSaRCREZFpp0y3+HymJO7kt5XGe7H8xvZoUfNbmglLYBEoAlljNmK5m2bJlVKpUiSFDhhRCoSJS3LV9aSKfvvoAR1LTvCecY2Z6Y9ZFN+TiZmcEtzg/hU2gBHiJ1U6dOrFlyxYA1q1bx8UXX0ybNm3o2rUrq1atAuCbb76hQ4cOtGrVil69erFjh07niYQjO7CDPpFTvVmaATM4L2IFpZJDZ/FC3WeTHxOegu1Lc96flgJb5x8Lm/QUWPCR95rIHKasqX4uXPJK9vuySE9PZ9KkSdx5550A3H333QwdOpQGDRrw66+/cv/99zN58mS6dOnCnDlzMDPef/99Bg8ezGuvvXYqn1REioFBUeOIJu245yLw8WDUOODG4BSVhcImEBI3QdZpgJyDfZug8tn5PmzGEgMbNmygTZs2XHjhhRw4cIBZs2bRp8+xNeOOHPGWd42Pj6dfv35s27aNlJSUo0sHiEgY2b+NGyJ/ITKblTb7RE4rtJU2C0phkx+59UCStsN/WgBZ55xzkLwPrvsw3z/4jGs2iYmJXHbZZQwZMoTbbruNChUqZLv0wIMPPsijjz7KFVdcwZQpU3j++efz9b4iEppSUtPZ8+5lVLfsJ7U/utJmAdeiKQy6ZlPYMl+ryaqQrt2UL1+eN998k3/961+ULl2a+vXrM2bMGO8tnGPxYm8F7cTERGrWrAnAxx9/XOD3FZHQsXnPISa8djvVD6/Nsc3RlTZD4PYLhU1hyhiBln7i8gKA93wh/eBbtWpFixYtGDVqFCNGjOCDDz6gRYsWNG3alK+++gqA559/nj59+tC1a1eqVAnOXcMiUvi+X7qNL958lCuTv8Kd7Nd4AAYo5YeWGMhGvpcY+PZR+O3TnMMGvAECrW4OiW5tsGiJAZH8SU5N56XvVhA7byj/F/0Z6bHliTySePIXVj+3UBZAOxktMVBU4ufmHjRQaEusikjJsnbnAQaOXEjbhHH8X/Rn+BpfSeR1H0Jk8fg1XjyqLC6K4H8OIlLyjFsYzzNfLqNP5FReiP4IGl5CxLXvF5ugAYXNKXHOYWbBLqNY02lbkbw7eCSNZ79azhcL43mk+mIG7XsXzroA+gyHqMAvM1+YFDZ5VKpUKXbv3k3lypUVOPnknGP37t2UKlUq2KWIhLyV2/YzcORC/th1kLdabOay3/+F1esC/UZAdPH7N6SwyaNatWoRHx9PQkJCsEsp1kqVKkWtWrWCXYZISGn70kR2HTjxeq8ZfN/7EI2nPQM128ANoyDmtCBUWHAKmzyKjo7WHfgiEhDZBQ1AZ1tK4+mvQ/VmcNNYiI0r4soKj+6zEREJEVXZy+iYv1GVfXSwlfw3+jWo0gBuGgelyge7vAJRz0ZEJEQMihpPO1vN36I+pGvkMuJdVRrc/CWcVinYpRWYejYiIkF08Ig3W3NV9tIncioR5rg4cj57XBw3pvwF4oK3lHNhUtiIiARJarqPB0YuBLxeTQTH5lWc52vETioGq7RCp7AREQkC5xxPfbGUKasTqBebRN/IKcRYOuCNQvtT5FzOKXMwyFUWHoWNiEgQ/PPH1d7Nmr0aMqX5pKOrbGYoHQU/tpoTpOoKn8JGRKSIDZ+5nnemrKN/hzoManoYlo45sVEhzhIfChQ2IiJF6NslW3nh2xVc1OR0XryoJvbxFZy42KJfiCwPUBgUNiIiRWTWul08OnoxbepU5M1rziby0ysheW/OLwij3o3CRkSkCKzYup97PllA3cqn8f6NzSg19ibYvgQiTnK7Y5j0bhQ2IiIBtnnPIW77aC5lYqP4+NZWVPj2btgwA8rXBl9a7i8OkzWwNIOAiEgA7TmYwq0fzSU5NZ2x93Sgxi+PwO8T4NLXod2dwS6vyChsREQC5FBKGncMn0f83sN8dkd7Gs57FpaNhV7Pl6igAZ1GExEJiLR0HwNH/saS+H282a8l7de+AQs/hi6PQpdHgl1ekVPPRkSkkDnn+Mv4pUxetZOXrmrGxXs+g1lvQbu7oOezwS4vKNSzEREpZK9P/J3P58cz6IKzuYkJ8MtL0Px6uGSwNxdNCaSwEREpRJ/O3sBbk9dyfbvaPFJ1HvzwJDS6DK4cAhEl91duyf3kIiKFbMLSbTz79XJ6Na7G38/5A/v6QTjzfLjuQ4gs2VctSvanFxEpgLYvTcx2SedSG6cQufFVqNUOrh8BUbFBqC60qGcjIpJPGUGTeTnntraKf6YPhmqNoP/nEFMmyFWGBvVsREQKKGM55+eiPqZb5BK2usqcddN4KF0h2KWFDPVsREQKIPNyzpdG/soBSnNTGC3nXFgUNiIi+bBg4x7gxOWc56Y3YhuVg1VWyFLYiIicollrd3HzB3Opyt4TlnPuHTmfquwLcoWhR2EjInIKflm9k9uHz6NmhdL8rdRIYjh+1uYIfDxR+qsgVRe6FDYiInn0w7Lt3P3JfM6uFsfYS3xcwswTJgSItTT6Rk4NiwXPCpPCRkQkD75atIUHRi6kWc3yjLqiDOXH9su5cZgseFaYFDYiIicxet4mHh69iHb1KjLikmjK/u9KSD+S8wvCaDnnwqKwERHJxcezNvDkF0vp2qAqH/f0cdqoa72eS0R07i9U7+Y4ChsRkRwMnbqO575ezkVNTuf9boeJHdUH4qpB+VrgS839xWGynHNh0QwCIiJZOOf4989r+M+kNVzeogZvtNlF1KiboGI9uOVrKHt6sEssdhQ2IiKZOOd4ecIqhk37gz5tavFKsy1Ejr4Vqp4DN38JZaoEu8RiSWEjIuLn8zme+3o5n87ZyC2d6vL8WWuJGHMnVG8ON4+D0hWDXWKxpbAREQHSfY6nvljCmAXx3NPtTJ6quQT74l6o1R5uHAOlygW7xGJNYSMiJV5quo9HP1/MN4u38nCvBjxUaQ42fhDU6wI3jILYuGCXWOwpbESkRDuSls7Akb8xccUOnr6kEfeUngxfPw5n9fQWPosuHewSw4LCRkRKlJxW14yLjeSe6Anw/V+h4SXQ92OtsFmIdJ+NiJQo2a2uCXBL2hfw01+hyZXQ9xMFTSFTz0ZESqSM1TUfjBrHXsryUNR4aN4PrnwHIvWrsbDpT1RESpzMq2v2j5xMlPkYldaD6696FyIig11eWNJpNBEpEXw+xxsTfwe8Xo3hAIgyH6t8tXg6bYCCJoDUsxGRsLfvUAoPj17ElNUJR3s1sXZs0bO6tpMq7A9iheFPPRsRCWvLtiRy2VszmLl2Fy9d1YynS40jWqtrFjn1bEQkbI2Zv5lnvlxGpTIxfH5PJ1qV3glMBnPHtTtudU1NshkQ6tmISNg5kpbOX8Yv5YmxS2hTtyLfPNiFVhWS4YPegMv+RVp/JqAUNiISVrbsO0zfobMZ+esm7utxFp/c0Z4qyZvgvz0heW/OL9TqmgGlsBGRsDFjzS4uf2sG6xIOMvSmNjx5cSOitv0GH1wEh3drdc0g0jUbESn2fD7Hu1PX8dpPqzm7WhxDb2rDmVXjYO3PMPoWbw2aMlVh1+rcD6TVNQNGYSMixdr+5FQe+3wxE1fs4PIWNXjlmnMpExsFS8bAl/dC1cZw01goWz3YpZZoChsRKbZWb0/ink/nE7/3MM9d3oTbzquHmcGcd+GHp6BuF7hhJJQqH+xSSzyFjYgUS18t2sJTXywlrlQU/7u7I+3qVQLn4OfnYcYb0PhyuOZ9iC4V7FIFhY2IFDMpaT7+8f1Khs/aQPt6lXi7fyuqlSsF6WnwzUOw6DNocztc+pqmnwkhChsRCWk5rT9TOjqCEXd1IDoyAlIOwdjb4fcfoPtT0OMpMAtCtZIThY2IhLTsggbgcKrPC5rDe2Hk9bD5V683025AEVcoeaGwEZHia/9W+PQa2LMO+gyHplcFuyLJgW7qFJFi6Szb4t2smRgPN45V0IQ4hY2IhCTnHP/5ec3Rx5mXcW5paxkT8wKkHYHbv4MzuwexUskLnUYTkZDj8zle+m4lH85cf/S5jGWcX47+L+dFrCDBlafSnT9CpTODWKnklXo2IhJS0tJ9/PmLJXw4cz23d65HlbiY45Zx7hnxG5tdVe6K/oeCphhRz0ZEQsaRtHQe+t8ifli+nYd7NeChng147vKm8O2jsMAHDsyMc1pfwE9X9gl2uXIKQrJnY2bnmNlDZvaZma0yM5+ZOTO7Lg+v7W9m080s0cwOmNl8M3vAzELys4qI5+CRNAZ8PJ8flm/n2cua8HCvht7UM4lbYcFwcOn+lg6Wfq6lAIqZUP0FfB/wb+BG4BwgT3dnmdkQYATQFpgOTAQaAm8DY81MtxOLhKDEQ6nc9MGvzFy7i3/1acEdXep7O1IPw0cXZwoaPy0FUOycctiY2WwzC/QYw2XAP4F+wNnA1DzUdS1wP7AdaO6cu8w5dzXQAFgJXA0MDFjFIpIvO5OS6TdsNsu37OedG9twXZta3o6Du+DD3rBv44kv0kJnxU5+ejYdgC/8p7fuMrPYwi7KOfe+c+7PzrnPnXPr8viyp/3bJ51zR8dLOud24PWUAJ7S6TSR0LF5zyH6DJ3Npj2H+PC2dlzczL8MwK618H4v2L4MInK4tKzeTbGSn1+8zYGPgbrAUGCjmf3VzCoWamWnwMxqAW2AFGBM1v3OuanAFqA60LFoqxOR7KzZkcR1Q2ex71Aqnw3oQJcGVbwdm+bABxdC8j5vIk1fWvYHUO+mWDnlsHHOLXPO3QHUAV70P/0isMnM/m1mdQuzwDxq5d8ud84dzqHNvCxtRSRIlsTvo+97s/E5GH1PR1rX8f9fdfl4+PgKKF0Rzu518gOpd1Ns5PuUknMuwTn3PF7oDADWA4OANWY2wsyK8pe6/2oi2ZzcPWpTlrYiEgSz1+2m/39/Ja5UFGPv7USj6uW8dWhmvgljboMareDOiZCwyuu95EbLOBcbBb7PxjmXAnwIfGhmPYFHgOuB681ssnPuwoK+Rx7E+bcHc2lzwL8tm91OM7sbuBugTp06hVeZiBz184od3D9yIXUrncand3agenn/OjQ/PAnz3ocmV8HV73kLnt07I9jlSiHKNmzMrDLwAOCccy9m2XcmUCnLV8VM36cD24AawAUBqzxLyf6ty+8BnHPDgGEAbdu2zfdxRCR7X/62hcfGLKZZjXIMv709FcvEQMpBGHuHtw7NeYOg1wsQoTE84Sinnk0V4Hm8X94vZtm3lmO/1LO7/8Xh9SLigcSCl5gnSf5tXC5tMvYl5dJGRALg09kbePbr5XSsX5n/3tqWuNgo78L+yL6wfYnWoSkBcgqbXcDfyL2nMAt4E9iBFyr7/Nv9zjlfYRaZBxv829wGJ9TO0lZEAsw5xztT1vHPH1fTq/HpvN2/FaWiI2HnKhjRBw7tguv/B+dcHOxSJcCyDRvn3G68nk127gceAzrj3XD5H+Bd51xR9WKy85t/29TMSucwIq1dlrYiEkDOOV6esIph0/7g6lY1GXxdc29lzfXTYfSNEFUKbv/eGxAgYS8/Q5+H4k0hcz2wFfgH3rDnf5pZzUKuL681bQYWAjHACbPzmVl3oBbe7AKzi7Y6kZIn3ed4etxShk37g1s71eW1Pi28oFk8Gj69GsqeAQN+VtCUIPkajeY/TfY58DcLlN0AABoUSURBVLmZXQg8idfbedDM/gf80zm3ovDKzJOX8W7ofNXMZjnn1gKYWTXgHX+bV4Jwik8k7LV9aSK7Dpw4TPm0mEiev6Kpd3F32j9h8ktQryv0+wxKVyjyOiV4Cjzswzk30TnXC2gPfAPcDCwxs6/NrEt+jmlmrc1sTsYX0Nq/6x9Zns9cx1jgXbxZApaa2TdmNg5YAzQBvsSbkFNECll2QQNwKCUd86XBN4O8oGneD276QkFTAhXoPhszM7xRXmXxRnkNBiYBfwEuA/6Uz/cohzcHW1YNcnuRc+5+M5uBN2y7OxAJrMK7D+hd9WpEAqsqe3k75i0GpgwigQrEcQhG9oN1k6DbE3D+X8HyNIm7hJlTDgIzW4UXLmWBMjk1y7I9Jc65KQV47UhgZH5eKyIFk7F084NR4xiSdhXDYwbD+q1wxdvQ+uZglydBlJ9eR0P/9hDeAIE9wF7/V3bfi0gY+3rxVoDjlm7uFzmFiyLnU4Yj0P9zOLtnkKuUYMtP2JwB7HHOpRZ2MSJSfPh8jn/9tJp3pnirgAyKGo/5b82LIY2yHOa6lOeZoKAR8hE2/vVhRKQES0pO5eFRi5i0aic3tK/DwuUr6ZM2lVjzlgMwg0jnw3dalSBXKqGiwBNxikjJsn7XQe76ZD4bdh3kxauacXPHuhD1X/gt/bg5R0pFGT+2mgP0DVqtEjo0452I5Nm03xO48u0Z7D5whM8GdPCCZtMcWPiJt7ZMZlrcTDJR2IjISTnneH/6H9z20VxqVCjN1wO70PHMyrD8Sxh+GTlOo6jFzcRPYSMiuUpOTeexMYt56buV9G5anS/uO4/a5aJgwpMw5tacl20G9W7kKIWNiORox/5k+g2bw7iFW3j0woYM6d+aMoe3wkcXw69DoVpTiIzO/SDq3QgKGxHJwW+b9nL5WzNYuyOJ925uw6CeDYhY8yMM7Qq71kDfT72FzrR0s+SBRqOJyAnGLojnL+OWcnr5WD69szPnVC0NE5+Dmf+G6s2h78dQ6UxockWwS5ViQmEjIkelpft4ecIqPpixnvPOqsyQ/q2pmL4LPu4Lm2ZBm9vh4lcgulSwS5ViRmEjIgAkHkpl4P8WMn3NLm47rx7PXNqYqA1T4YsBkHoYrvkvNNc9M5I/ChsRYc2OJO76ZD5b9h1m8LXN6dumBkwbDFNegarnQN9PvK1IPilsREq4n1fs4OHRiygVHcmouzvSpnI6fHYN/DEFml8Pl70OMTlN8C6SNwobkRLKOcc7U9bxr59W06xGed67uQ01En+D9+6Aw3vhireg1c1af0YKhcJGpAQ6lJLGE2OX8N2SbVzZsgavXtOMUnOHwKS/QcW6cOMYqH5usMuUMKKwESlhtuw7zF0fz2fl9v08dUkj7mlXERt7E/z+AzS5yuvRlCoX7DIlzChsRMJY25cmsuvAiTddGvDhbe04P24zvHcVJG2DS/4J7e/SaTMJCM0gIBLGMoKmKnsZHfM3qrIPAIfj/MTx8GFvr+EdP0KHuxU0EjAKG5ESYFDUeNrZah6MGkcch3g7+k2Y8GdvueZ7pkKtNsEuUcKcTqOJhLmq7KVP5FQizNEvcgo9IhZRw/ZArxfgvEHe/GYiAaa/ZSJhyDnHhzPWA16vxvzrzcSQRmXbzw0pz0CXhxU0UmTUsxEJMwlJR3hi7GKmrE442quJNW/NGTOIdI4NrnqQq5SSRmEjEkamrN7J42MWk5ScxotXNqX2j3cS61KPa2M4nij9FXBjcIqUEklhIxIGjqSl8+qE1Xw4cz3nnF6Wkbe1pOHCl4D53jjnTGItjb6RU73VM8ueHpR6peRR2IgUc2t3JvHg/xaxctt+bjuvHk+3SiX2q8shYSVYhLdSZlYZq2de9nrRFywlkq4OihRTzjlG/LqRy96awY79yXxwcyuer/gjsR/1goMJEBmTfdCAt3rmohFe70akCChsRIqhvQdTuPezBfx1/DLa1avET7fWpuec22HSC9DoT9Dw4pMfJKN3I1IEdBpNpJiZtW4Xj45ezO6DR3jmT424o8wMIj77i3fK7Oph3gJn73X1ei+5SU+B+LlFU7SUeAobkWIiNd3H6xN/Z+jUddSvUoaP+p5D43n/B6u/g3pd4ap3oUJtr/G9M4JbrEgWChuRYmDDroM8NOo3FscnckP72jzfcCOx43tDciJc9HfoeL9u0JSQprARCWHOOb5YuIXnvlpGVGQEw/o25KL4N2HsJ3D6uXDL13B6k2CXKXJSChuREJV4OJVnvlzGN4u30qF+JYZ0TaHKxOtg70bo8gj0eBqiYoNdpkieKGxEQtCCjXsY9L9FbN+fzJMXnsk9bgwRY96A8rXg9u+h7nnBLlHklChsREJIWrqPIb+s4z+TfqdWxdP4tl9lGs++G7YvgVY3Qe+XtYqmFEsKG5EQEb/3EI+MXsS8DXu5tuUZ/L3mTEp9/SLEloXrR0KjS4Ndoki+KWxEQsC3S7by9LilOAfvXXE6vdc8B5OmeTdnXvEWxFULdokiBaKwEQmig0fSeP7r5YxZEE+r2uX5b6v1VJl6F/jS4PI3ofUtWqpZwoLCRiRIlsTv46FRi9i4+yB/7lqVew++Q8RP46FWe7jmPah0ZrBLFCk0ChuRAGv70kR2HUihKnt5O+YtBqYMIoEKANQoX4rv/5RCo7m3eJNnXvB/0PlhiNQ/TQkvuuVYJMB2HfDmKBsUNZ52tpoHo8YBUIoj/NL0expNug1iy8GASdDtcQWNhCX9rRYpAhnLM0eYo0/kNH5Ob81z0Z8Su3CbN9VMz2chunSwyxQJGIWNSBEYFDUewwEQTRrDYwaznUpwy1dwZo+g1iZSFHQaTSRAnHN8sSD+aK8m1tIAiDIfjghuPPK0gkZKDPVsRAJgW+Jh/jJuKb+sTmBw1GiiSTtufxoR3B71I3B3cAoUKWIKG5FC5Jxj1LzN/OO7leBLZXyT6bT8YxpZ75SJtTT6Rk3zlmUue3pQahUpSgobkUKyec8hnhq3hJlrd3NfzT94NP0jov9YBxj4r9dkVioSb1nmy14v6lJFipyu2YgUkM/nGD5zPRe9MY39m1cwq/Y7PLn7Ge/UWWQ02QUN4C3LvGiE17sRCXMKG5EC+CPhAP2Gzeb1b+by7wqj+TryCWrsXwIXvQRnnQ8nnEDLwvm83o1ImNNpNJF8SPc5PpjxB2/8tIr+UZP5rOxYYpISsda3eLMAxFWFoV283kuuB0qB+LlFU7RIEClsRE7R7zuSeGLsEk7bMpOJcSOplbIeanSGi1+GM1oca3jvjOAVKRJiFDYieZSa7uO9qesYP2kmf40ewQUxc3Gn1YErP4YmV2p2ZpFcKGxE8mD51kSe/XwOPXd9xg8xE4iKioauz2CdBmqaGZE8UNiI5OJIWjpDJv3O9unDeS9qFFWi9sG510Ov56BcjWCXJ1JsKGxEcrBo8z6GjxrF7Unv0SLqD9LOaAOXDoZabYNdmkixo7ARySI5NZ33v51OnYWv8u/IWRwpczpcPIyoc/tAhO4WEMkPhY1IJgvWbmHJ5y9y55EviIqCI50eI7b7oxAbF+zSRIo1hY0IcDA5lQmjhtBp/Zu0sd3sqvsnqlz9ClSsG+zSRMKCwkZKvMW//oL9+BTX+Vax7bSGHL5mOFUadAt2WSJhRWEjJVbSrnhWj3iC1nsmsC+iHOvPe5n6ve6BiMhglyYSdhQ2UvKkHWHdN4OpvngIzV0Kc8/oT8sb/06lshWDXZlI2FLYSMnhHAeXfMXhb//CWalbmB3VnvJXDaZjs1bBrkwk7Gkcp4SXpO3w0SUnTtu/Yzm7372EMuNvZc8RGNvkLVo/9QNNFDQiRUJhI+Fl6mDYNOfYtP0Hd5P85cP43u1C5I4lvFP6HlLums51fW8hNkrXZkSKik6jSfhI2u4tRuZ8sGgELu50Ume+TVTqAT5L70VKlz9zV682REfq/1giRU1hI2Gh7UsTeSh5KH0j04g18KUmEzHlH8xJP5fPK9/HoBuuoOHpZYNdpkiJpbCR4s85ah9cxvUxvxBt6QBEGKS4KB5LvZfZD95AlHozIkGlsJHixznYvRY2zICNM3EbZjI+duuJzYAHo8YTFXlT0dcoIsdR2Ejocw4SVsPGGfg2zMS3fgZRh3YCsCeiIgvTzqS77Tjaq8kQa2n0iZzmjUwre3owKhcRP4WNhB6fDxJW4TZM5/CaaURunk3skd0A7HSVmONrxBzfFSyNakbZ08/hifT/4tuxONtDReDzRqZd9npRfgIRyUJhI8Hn88HO5SSt/oXDv0+j7I65lE5LxIA9rgq/+hqzwDVhd7UOVK9zDs1rV2RA7fKcWSWOiIM74D/fg6Vle+hYS/NGqHV/Ur0bkSBS2EjR86VzYNNvJCydDBtmUG3vQsr4kigL7PVVZZprwca4VqTUPo/aZzamRa0KXF69LDFR2VzknzrYG+qcG6fejUiwKWwk4JKPHGH90lkkrZ5Kma2zqXtwKXEcJA5Y7zudKTEd2FOtPVFndeHsBo35U41ynBaTx7+a8XMhPSX3NukpXjsRCRqFjRSq1HQfq7fuYcvy2fg2zKDKrnk0Sl1BYzsMwEZqsKBsD47U7ET5xj1o1KARl54Wnf83vHdGIVUuIoGksJF88/kc63cfZOmmnexe/SuxW2ZTN+k3WttqmtkRALZE1WFd9T9h9btQo3lP6taoi5YjEyl5FDaSJ845tiYms2TzPpZtSuDw+l+plDCXlr7l9I5YQ2nzTmXtLHMmO8+4lrhzelCl6fnUjKtGzSDXLiLBp7CRbO0+cIQl8Yksjt/Hyk07IX4ejVOW0MFW8WDEGkpZKj4zEis2JLnOTcQ0OZ/Iup2pVqZysEsXkRCksBEOHEljaXwiS+L3sTh+H6s27aR60hI6RqzgvIhV3B+xlhjS8EVFkFy5CVFnD4D63Yio05GKp1UKdvkiUgwobEqY5NR0Vm7bf7TXsiQ+kW0Ju2htv9MxYgX3xfxOY99aomLScBaBr3oLIuvfB3W7EFGnI6eVrhDsjyAixZDCJoylpftYs/OAv8fi9VxWb08iNv0gbSN+5/zY33kgehX1Sq0h0qXjLBKr0RrqDoR6XbDaHYgsVS7YH0NEwoDCJkw459i4+xCL4/exeLMXLMu37udwajrlOEjXUmu5N24dbSosp/rB1Rg+nEVjp7eGeg9D3c5Y7Q4QGxfsjyIiYUhhU0xtT0z2nwbzToUtiU8k8XAqANWiDnFN5U08dsZqGh9ZSvnElRgODsdAzbbQ5nGo1xmr1R5iTgvyJxGRkkBhUwzsO5TinQbbfOx02M4k7z6WyAijXVUfT9RZTztbSd2k34jdvRJLdBAZC7XbQ6unoG5nqNUWoksH+dOISEmksAkxh1LSWLZlP4s37zt6AX/TnkNH959ZtQy960VyQel4mqYso8rueUQkrIREIKq0Fy7Nr4Z6XaBmG4iKDd6HERHxC8uwMbP+wH1AcyASWAV8BLzr3MlmbSw6KWk+Vm3ff7TXsiQ+kTU7k/A5b3/NCqVpXqs8d7YoTcfIldQ/uIiYzbNhzWqvQXQZqNMBzr0O6nWFGq0gKiZ4H0hEJAdhFzZmNgS4H0gGJgGpQE/gbaCnmfVxzqXncohT1valiew6cOJkkFXiYpj/zIUApPsc6xIOsHhzxjWWfazclkRKupd9lcrE0LxWeS5uVp32lQ9zbtoyym3/ETbOhLVrvQPGlIU6HaHlDVC3C9RoCZEFmFdMRKSIhFXYmNm1eEGzHejmnFvjf/504BfgamAg8J/CfN+MoKnKXt6OeYuBKYNIoAK7DqTw9+9WsDg+keVbEjmY4mVcXGwUzWqW4/bO9WheqwKtyidxxt4F2MYvYcVM2LveO3BsOah7HrS+Fep1huotIDKsfmQiUkKE22+up/3bJzOCBsA5t8PM7gOmAE+Z2VuBOJ02KGo87Ww1D0aN49m0OwD4ePZGmpxRjuva1KJ5rQq0qFWOM6N2E7FpFmyYAZNnwL5N3gFKVfAu5Le/y9tWPxciIgu7TBGRIhc2YWNmtYA2QAowJut+59xUM9sC1AQ6ArMK8/2rspc+kVOJMEefyGm8lXYNCVRg2XMXEbN/g3c6bMNMmDoD9sd7Lypdyeu5dHzA67lUawoR2SwQJiJSzIVN2ACt/NvlzrnDObSZhxc2rSjksBkUNd67lwWIJJ03o99kB5WIefMxSNrmNTqtihcq/psoqdpI4SIiJUI4hU19/3ZjLm02ZWlbKDJ6NbGWBkCMpdMpchW7XDmo08sfMF2hSkMwK8y3FhEpFsIpbDLmWTmYS5sD/m3ZrDvM7G7gboA6deqc0hv/ufRXWMZ4Zb8UF8lk60TfPh+d0rFERMJROJ3DyegyuFxb5cA5N8w519Y517Zq1ap5f2HSdvpETjvaq8kQY+n0jZoKSTvyU46ISFgJp7BJ8m9zm0kyY19SLm1OzdTBkNPANueDqa8W2luJiBRX4RQ2G/zb3Ja4r52lbcEkbYdFIyD9xBs6Ae/5RSPUuxGREi+cwuY3/7apmeU022S7LG0LJrdeTQb1bkREwidsnHObgYVADNAn634z6w7UwptdYHahvGn83Jx7NRnSU7x2IiIlWDiNRgN4Ge+GzlfNbJZzbi2AmVUD3vG3eaXQZg+4d0ahHEZEJNyFVdg458aa2bt4Mz4vNbOfOTYRZzngS7wJOUVEpAiFVdgAOOfuN7MZwANAd44tMfAhIbbEgIhISRF2YQPgnBsJjAx2HSIi4jHn8nUPZFgzswRyn/YmN1WAXYVYjhQd/eyKN/38gq+ucy7bu+IVNoXMzOY759oGuw45dfrZFW/6+YW2sBn6LCIioUthIyIiAaewKXzDgl2A5Jt+dsWbfn4hTNdsREQk4NSzERGRgFPYiIhIwClsComZ9Tez6WaWaGYHzGy+mT1gZvozDkFmFm1mPc3sNTObY2bbzCzFzLaY2Vgz6xHsGuXUmNk/zMz5vx4Pdj1yPF2zKQRmNgS4H0gGJnFsPraywHigj3MuPXgVSlZm1guY6H+4HViAt6R4E6CZ//kXnXPPBqE8OUVm1g5vNvcIvFV7n3DO/Su4VUlm+l93AZnZtXhBsx1o7py7zDl3NdAAWAlcDQwMYomSPR/wBdDNOXeG/+fWzzl3LnA9kA78n5mdH9Qq5aTMLBYYDuwAvgpuNZIThU3BPe3fPumcW5PxpHNuB97s0wBP6XRaaHHOTXbOXeecm57NvtF4v7wAbirSwiQ//obXI70XSAxyLZID/QIsADOrBbQBUvDW0TmOc24qsAWoDnQs2uqkgDJWc60V1CokV2bWAXgMGOmc+ybY9UjOFDYF08q/Xe6cO5xDm3lZ2krx0MC/3RbUKiRHZlYK+BjYAzwU5HLkJMJyiYEiVN+/zW2G6E1Z2kqIM7PqwG3+h18EsRTJ3d+Bc4DrnXOa7TnEqWdTMHH+7cFc2hzwb8sGuBYpBGYWBXwGlAcm6dRMaDKz84CHgS/919gkxClsCsb8W40fDx9D8Yatb0aDA0KSmZUGPgL2440ElWJAp9EKJsm/jculTca+pFzaSAgws/8Ad+INY+/pnNse5JIke/8AGgJ3OOd0Ta2YUNgUzAb/tm4ubWpnaSshyMxeAwYBCXhBs+YkL5HguRrvPqlbzezWLPsa+bf3mdllwFrn3IAirU6ypbApmIzhsU3NrHQOI9LaZWkrIcbMBgOPAruBC51zK4JckpxcBNA9l/1n+r8qFE05cjK6ZlMAzrnNwEIgBuiTdb+Zdce7T2M73lQaEmLM7BXgCWAvXtAsDnJJchLOuXrOOcvuC28oNHjT1ZhzrmUwa5VjFDYF97J/+6qZnZ3xpJlVA97xP3zFOecr8sokV2b2IvAksA8vaNT7FAkQnUYrIOfcWDN7F29qmqVm9jPHJuIsB3wJvB3EEiUbZnYF8Iz/4VrgQTPLrukq59wrRVaYSJhS2BQC59z9ZjYDeADvPHIksAr4EHhXvZqQVCnT9239X9mZCihsRApISwyIiEjA6ZqNiIgEnMJGREQCTmEjIiIBp7AREZGAU9iIiEjAKWxERCTgFDYiIhJwChuREGFmd5iZy+Zrv5lNN7O+wa5RJL80g4BI6Gjt3y7h2CzhsUAboAvQxcxqOedeD0ZxIgWhGQREQoSZzQI6AQOccx9kej4Sb2XKm/EW4avinEsJTpUi+aPTaCIhwMwigOb+h8ctc+CcS+fY/Gxl8VapFClWFDYioaERUAZIB5Zns/9gpu+Pm57azKqa2XNmtsB/feewmS00s7sCWK/IKdE1G5HQkHG9Zk0OK75mLHecRqYlxs2sFzAabxbrdcDPeEtbdAWGmdm5zrlBgSpaJK/UsxEJDZkHB2TnSf/2R+dcEoCZtcFbL6k0cCPQwDl3jXOuF9ASb/XRB81Mq1VK0ClsRELDCWFjZuXNrJOZfQ+cj7ei6OP+fZF4SyCXAa53zo10mUb7OOdWcmzRvt5FUL9IrhQ2IkFm3hKhGb2PlzLur8ELl1nAJcAioIdzbpW/XT+gKTDJOfd1Dofe4N9WCUjhIqdA12xEgu8soDzggE/8zzngELAZmOacm5XlNdf5tz39wZSbvYVVqEh+KWxEgi/jFNo659xteXxNK/92FHDkJG0n5acokcKksBEJvoywWXAKr6nm396qGzylONA1G5Hgy0/YJPq3TQu5FpGAUNiIBF/GKbFTCZsJ/u07ZnZG1p1mVs3MBppZdIGrEykEmhtNJIjMrA6w0f+wonNuXx5fVwOYCdQDkoE5wHa8mztr4t0EusE5d3Zh1yySH7pmIxJcGb2aP/IaNADOua1m1hrvvpsrgPZ4/553AVuA14FxhVyrSL6pZyMiIgGnazYiIhJwChsREQk4hY2IiAScwkZERAJOYSMiIgGnsBERkYBT2IiISMApbEREJOAUNiIiEnD/D/X5unFHi8ZVAAAAAElFTkSuQmCC\n",
      "text/plain": [
       "<Figure size 432x288 with 1 Axes>"
      ]
     },
     "metadata": {
      "needs_background": "light"
     },
     "output_type": "display_data"
    }
   ],
   "source": [
    "\n",
    "font = {'family' : 'normal',\n",
    "        'weight' : 'normal',\n",
    "        'size'   : 22}\n",
    "\n",
    "matplotlib.rc('font', **font)\n",
    "\n",
    "TAs = [float(i) for i in TA_test]\n",
    "\n",
    "plt.plot(np.power(TAs,0.5),dotw*rescale-55.48*0.255, marker='s', label= 'Predicted');\n",
    "# Note, in the above, the factor of 0.255 is \alpha, which we determined by fitting \dot{w} = \alpha \int ((\nabla U) ^2 - T \nabla^2 U ) (g - g_{eq}) \n",
    "plt.plot(np.power(TAs,0.5),dotw_real*rescale-55.48*0.255,marker='^',label='Real', markersize=10, linestyle='-');\n",
    "\n",
    "plt.xlabel(r'$Pe$')\n",
    "plt.ylabel(r'$\\dot{w}$')\n",
    "plt.title('Yukawa')\n",
    "plt.legend(loc=2,prop={'size':10})#(with ngaussian=30)\n"
   ]
  }
 ],
 "metadata": {
  "kernelspec": {
   "display_name": "Python 3",
   "language": "python",
   "name": "python3"
  },
  "language_info": {
   "codemirror_mode": {
    "name": "ipython",
    "version": 3
   },
   "file_extension": ".py",
   "mimetype": "text/x-python",
   "name": "python",
   "nbconvert_exporter": "python",
   "pygments_lexer": "ipython3",
   "version": "3.8.3"
  }
 },
 "nbformat": 4,
 "nbformat_minor": 4
}
